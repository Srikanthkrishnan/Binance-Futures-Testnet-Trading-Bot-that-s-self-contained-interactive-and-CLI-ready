{
  "nbformat": 4,
  "nbformat_minor": 0,
  "metadata": {
    "colab": {
      "provenance": []
    },
    "kernelspec": {
      "name": "python3",
      "display_name": "Python 3"
    },
    "language_info": {
      "name": "python"
    }
  },
  "cells": [
    {
      "cell_type": "code",
      "execution_count": 2,
      "metadata": {
        "colab": {
          "base_uri": "https://localhost:8080/"
        },
        "id": "2C93dqZNpmRf",
        "outputId": "cb41492c-519e-48e0-8e96-16bfa7504b43"
      },
      "outputs": [
        {
          "output_type": "stream",
          "name": "stdout",
          "text": [
            "Running in interactive environment. Use main_interactive() function.\n"
          ]
        }
      ],
      "source": [
        "#!/usr/bin/env python3\n",
        "\"\"\"\n",
        "Binance Futures Testnet — Simplified Trading Bot\n",
        "Supports CLI and interactive Colab usage\n",
        "\"\"\"\n",
        "\n",
        "import argparse\n",
        "import hashlib\n",
        "import hmac\n",
        "import logging\n",
        "import os\n",
        "import sys\n",
        "import time\n",
        "from logging.handlers import RotatingFileHandler\n",
        "from typing import Any, Dict, Optional\n",
        "\n",
        "import requests\n",
        "\n",
        "# ---------------------- Config ----------------------\n",
        "TESTNET_BASE_URL = \"https://testnet.binancefuture.com\"\n",
        "API_PREFIX = \"/fapi/v1\"\n",
        "\n",
        "LOG_DIR = os.path.join(os.getcwd(), \"logs\")\n",
        "os.makedirs(LOG_DIR, exist_ok=True)\n",
        "LOG_PATH = os.path.join(LOG_DIR, \"trading_bot.log\")\n",
        "\n",
        "logger = logging.getLogger(\"bot\")\n",
        "logger.setLevel(logging.INFO)\n",
        "handler = RotatingFileHandler(LOG_PATH, maxBytes=2_000_000, backupCount=3)\n",
        "formatter = logging.Formatter(\"%(asctime)s | %(levelname)s | %(message)s\")\n",
        "handler.setFormatter(formatter)\n",
        "logger.addHandler(handler)\n",
        "console = logging.StreamHandler(sys.stdout)\n",
        "console.setFormatter(formatter)\n",
        "logger.addHandler(console)\n",
        "\n",
        "# ---------------------- REST Helper ----------------------\n",
        "class BinanceFuturesREST:\n",
        "    def __init__(self, api_key: str, api_secret: str, base_url: str = TESTNET_BASE_URL):\n",
        "        self.api_key = api_key\n",
        "        self.api_secret = api_secret.encode()\n",
        "        self.base_url = base_url.rstrip(\"/\")\n",
        "        self.session = requests.Session()\n",
        "        self.session.headers.update({\"X-MBX-APIKEY\": api_key})\n",
        "\n",
        "    def _query_string(self, params: Dict[str, Any]) -> str:\n",
        "        return \"&\".join(f\"{k}={params[k]}\" for k in params)\n",
        "\n",
        "    def _request(self, method: str, path: str, signed: bool = False, params: Optional[Dict[str, Any]] = None) -> Dict[str, Any]:\n",
        "        url = f\"{self.base_url}{API_PREFIX}{path}\"\n",
        "        params = params or {}\n",
        "        if signed:\n",
        "            params.setdefault(\"timestamp\", int(time.time() * 1000))\n",
        "            query = self._query_string(params)\n",
        "            signature = hmac.new(self.api_secret, query.encode(), hashlib.sha256).hexdigest()\n",
        "            params[\"signature\"] = signature\n",
        "        try:\n",
        "            log_params = {k: (\"***\" if k in {\"signature\"} else v) for k, v in params.items()}\n",
        "            logger.info(f\"REQUEST {method} {url} | params={log_params}\")\n",
        "            resp = self.session.request(\n",
        "                method,\n",
        "                url,\n",
        "                params=params if method == \"GET\" else None,\n",
        "                data=params if method != \"GET\" else None,\n",
        "                timeout=15\n",
        "            )\n",
        "            logger.info(f\"RESPONSE {resp.status_code}: {resp.text[:500]}\")\n",
        "            resp.raise_for_status()\n",
        "            return resp.json()\n",
        "        except requests.RequestException as e:\n",
        "            logger.error(f\"HTTP error: {e}\")\n",
        "            if e.response is not None:\n",
        "                try:\n",
        "                    return e.response.json()\n",
        "                except Exception:\n",
        "                    pass\n",
        "            raise\n",
        "\n",
        "    def exchange_info(self) -> Dict[str, Any]:\n",
        "        return self._request(\"GET\", \"/exchangeInfo\")\n",
        "\n",
        "    def set_leverage(self, symbol: str, leverage: int) -> Dict[str, Any]:\n",
        "        return self._request(\"POST\", \"/leverage\", signed=True, params={\"symbol\": symbol.upper(), \"leverage\": leverage})\n",
        "\n",
        "    def order(self, symbol: str, side: str, type_: str, quantity: float,\n",
        "              price: Optional[float] = None, time_in_force: Optional[str] = None,\n",
        "              reduce_only: Optional[bool] = None, stop_price: Optional[float] = None,\n",
        "              position_side: Optional[str] = None, recv_window: int = 5000) -> Dict[str, Any]:\n",
        "        params: Dict[str, Any] = {\n",
        "            \"symbol\": symbol.upper(),\n",
        "            \"side\": side.upper(),\n",
        "            \"type\": type_.upper(),\n",
        "            \"quantity\": BasicBot.to_decimal_str(quantity),\n",
        "            \"recvWindow\": recv_window,\n",
        "        }\n",
        "        if price is not None:\n",
        "            params[\"price\"] = BasicBot.to_decimal_str(price)\n",
        "        if time_in_force:\n",
        "            params[\"timeInForce\"] = time_in_force\n",
        "        if reduce_only is not None:\n",
        "            params[\"reduceOnly\"] = \"true\" if reduce_only else \"false\"\n",
        "        if stop_price is not None:\n",
        "            params[\"stopPrice\"] = BasicBot.to_decimal_str(stop_price)\n",
        "        if position_side:\n",
        "            params[\"positionSide\"] = position_side\n",
        "        return self._request(\"POST\", \"/order\", signed=True, params=params)\n",
        "\n",
        "# ---------------------- Bot ----------------------\n",
        "class BasicBot:\n",
        "    SUPPORTED_TYPES = {\"MARKET\", \"LIMIT\", \"STOP\", \"STOP_MARKET\", \"TAKE_PROFIT\", \"TAKE_PROFIT_MARKET\"}\n",
        "    SUPPORTED_SIDES = {\"BUY\", \"SELL\"}\n",
        "    SUPPORTED_TIF = {\"GTC\", \"IOC\", \"FOK\"}\n",
        "\n",
        "    def __init__(self, api_key: str, api_secret: str, base_url: str = TESTNET_BASE_URL):\n",
        "        self.api = BinanceFuturesREST(api_key, api_secret, base_url=base_url)\n",
        "\n",
        "    @staticmethod\n",
        "    def to_decimal_str(x: float) -> str:\n",
        "        return (\"%.16f\" % float(x)).rstrip(\"0\").rstrip(\".\")\n",
        "\n",
        "    def validate_symbol_exists(self, symbol: str) -> None:\n",
        "        info = self.api.exchange_info()\n",
        "        symbols = {s[\"symbol\"] for s in info.get(\"symbols\", [])}\n",
        "        if symbol.upper() not in symbols:\n",
        "            raise ValueError(f\"Symbol '{symbol}' not found on Futures exchange.\")\n",
        "\n",
        "    def place_order(self, symbol: str, side: str, type_: str, qty: float,\n",
        "                    price: Optional[float] = None, tif: Optional[str] = None,\n",
        "                    leverage: Optional[int] = None, reduce_only: Optional[bool] = None,\n",
        "                    stop: Optional[float] = None, position_side: Optional[str] = None) -> Dict[str, Any]:\n",
        "        side_u = side.upper()\n",
        "        type_u = type_.upper()\n",
        "        if side_u not in self.SUPPORTED_SIDES:\n",
        "            raise ValueError(f\"Invalid side: {side}.\")\n",
        "        if type_u not in self.SUPPORTED_TYPES:\n",
        "            raise ValueError(f\"Invalid type: {type_}.\")\n",
        "        if type_u == \"LIMIT\" and (price is None or tif is None):\n",
        "            raise ValueError(\"LIMIT orders require price and tif\")\n",
        "        if tif is not None and tif.upper() not in self.SUPPORTED_TIF:\n",
        "            raise ValueError(f\"Invalid TIF: {tif}.\")\n",
        "        if qty <= 0:\n",
        "            raise ValueError(\"Quantity must be > 0\")\n",
        "\n",
        "        self.validate_symbol_exists(symbol)\n",
        "\n",
        "        if leverage is not None:\n",
        "            lev_res = self.api.set_leverage(symbol.upper(), int(leverage))\n",
        "            logger.info(f\"Leverage set result: {lev_res}\")\n",
        "\n",
        "        res = self.api.order(\n",
        "            symbol=symbol,\n",
        "            side=side_u,\n",
        "            type_=type_u,\n",
        "            quantity=qty,\n",
        "            price=price,\n",
        "            time_in_force=tif,\n",
        "            reduce_only=reduce_only,\n",
        "            stop_price=stop,\n",
        "            position_side=position_side,\n",
        "        )\n",
        "        return res\n",
        "\n",
        "# ---------------------- CLI ----------------------\n",
        "def parse_args(argv=None) -> argparse.Namespace:\n",
        "    p = argparse.ArgumentParser(description=\"Binance Futures Testnet Trading Bot\")\n",
        "    p.add_argument(\"--symbol\", required=True)\n",
        "    p.add_argument(\"--side\", required=True, choices=[\"BUY\",\"SELL\",\"buy\",\"sell\"])\n",
        "    p.add_argument(\"--type\", dest=\"type_\", required=True)\n",
        "    p.add_argument(\"--qty\", type=float, required=True)\n",
        "    p.add_argument(\"--price\", type=float, default=None)\n",
        "    p.add_argument(\"--tif\", type=str, default=None)\n",
        "    p.add_argument(\"--stop\", type=float, default=None)\n",
        "    p.add_argument(\"--reduce-only\", action=\"store_true\")\n",
        "    p.add_argument(\"--position-side\", choices=[\"LONG\",\"SHORT\"], default=None)\n",
        "    p.add_argument(\"--leverage\", type=int, default=None)\n",
        "    p.add_argument(\"--api-key\", default=os.getenv(\"BINANCE_API_KEY\"))\n",
        "    p.add_argument(\"--api-secret\", default=os.getenv(\"BINANCE_API_SECRET\"))\n",
        "    p.add_argument(\"--base-url\", default=TESTNET_BASE_URL)\n",
        "    args = p.parse_args(argv)\n",
        "    if not args.api_key or not args.api_secret:\n",
        "        p.error(\"API credentials required\")\n",
        "    args.symbol = args.symbol.upper()\n",
        "    args.side = args.side.upper()\n",
        "    args.type_ = args.type_.upper()\n",
        "    if args.tif: args.tif = args.tif.upper()\n",
        "    return args\n",
        "\n",
        "# ---------------------- Interactive Helper ----------------------\n",
        "def main_interactive(symbol: str, side: str, type_: str, qty: float,\n",
        "                     price: Optional[float] = None, tif: Optional[str] = None,\n",
        "                     leverage: Optional[int] = None, reduce_only: bool = False,\n",
        "                     stop: Optional[float] = None, position_side: Optional[str] = None,\n",
        "                     api_key: Optional[str] = None, api_secret: Optional[str] = None):\n",
        "    if not api_key or not api_secret:\n",
        "        raise ValueError(\"API key and secret must be provided.\")\n",
        "    bot = BasicBot(api_key=api_key, api_secret=api_secret)\n",
        "    res = bot.place_order(\n",
        "        symbol=symbol, side=side, type_=type_, qty=qty,\n",
        "        price=price, tif=tif, leverage=leverage,\n",
        "        reduce_only=reduce_only, stop=stop, position_side=position_side\n",
        "    )\n",
        "    return res\n",
        "\n",
        "# ---------------------- Main ----------------------\n",
        "def main(argv=None):\n",
        "    args = parse_args(argv)\n",
        "    bot = BasicBot(api_key=args.api_key, api_secret=args.api_secret, base_url=args.base_url)\n",
        "    try:\n",
        "        res = bot.place_order(\n",
        "            symbol=args.symbol,\n",
        "            side=args.side,\n",
        "            type_=args.type_,\n",
        "            qty=args.qty,\n",
        "            price=args.price,\n",
        "            tif=args.tif,\n",
        "            leverage=args.leverage,\n",
        "            reduce_only=args.reduce_only,\n",
        "            stop=args.stop,\n",
        "            position_side=args.position_side,\n",
        "        )\n",
        "        summary_keys = [\"symbol\",\"side\",\"type\",\"origQty\",\"price\",\"avgPrice\",\"executedQty\",\"status\",\"clientOrderId\",\"orderId\"]\n",
        "        summary = {k: res.get(k) for k in summary_keys if k in res}\n",
        "        print(\"\\nOrder Result:\")\n",
        "        for k,v in summary.items():\n",
        "            print(f\"  {k}: {v}\")\n",
        "        print(\"\\nFull Response JSON:\\n\", res)\n",
        "    except Exception as e:\n",
        "        logger.exception(\"Order placement failed\")\n",
        "        print(f\"Error: {e}\")\n",
        "        sys.exit(1)\n",
        "\n",
        "if __name__==\"__main__\":\n",
        "    # If run in terminal, use CLI\n",
        "    if \"ipykernel\" in sys.modules:\n",
        "        print(\"Running in interactive environment. Use main_interactive() function.\")\n",
        "    else:\n",
        "        main()\n"
      ]
    },
    {
      "cell_type": "code",
      "source": [
        "res = main_interactive(\n",
        "    symbol=\"ETHUSDT\",\n",
        "    side=\"SELL\",\n",
        "    type_=\"LIMIT\",\n",
        "    qty=0.01,\n",
        "    price=1800,\n",
        "    tif=\"GTC\",\n",
        "    leverage=3,\n",
        "    api_key=\"your_testnet_api_key\",\n",
        "    api_secret=\"your_testnet_api_secret\"\n",
        ")\n",
        "print(res)\n"
      ],
      "metadata": {
        "colab": {
          "base_uri": "https://localhost:8080/"
        },
        "id": "Aw8baF0_qn-L",
        "outputId": "fc4fbe56-00d2-4c3c-f395-38c2178e2c0b"
      },
      "execution_count": 3,
      "outputs": [
        {
          "output_type": "stream",
          "name": "stdout",
          "text": [
            "2025-09-09 18:08:51,537 | INFO | REQUEST GET https://testnet.binancefuture.com/fapi/v1/exchangeInfo | params={}\n",
            "2025-09-09 18:08:51,537 | INFO | REQUEST GET https://testnet.binancefuture.com/fapi/v1/exchangeInfo | params={}\n"
          ]
        },
        {
          "output_type": "stream",
          "name": "stderr",
          "text": [
            "INFO:bot:REQUEST GET https://testnet.binancefuture.com/fapi/v1/exchangeInfo | params={}\n"
          ]
        },
        {
          "output_type": "stream",
          "name": "stdout",
          "text": [
            "2025-09-09 18:08:52,184 | INFO | RESPONSE 200: {\"timezone\":\"UTC\",\"serverTime\":1757425319152,\"futuresType\":\"U_MARGINED\",\"rateLimits\":[{\"rateLimitType\":\"REQUEST_WEIGHT\",\"interval\":\"MINUTE\",\"intervalNum\":1,\"limit\":6000},{\"rateLimitType\":\"ORDERS\",\"interval\":\"MINUTE\",\"intervalNum\":1,\"limit\":1200},{\"rateLimitType\":\"ORDERS\",\"interval\":\"SECOND\",\"intervalNum\":10,\"limit\":300}],\"exchangeFilters\":[],\"assets\":[{\"asset\":\"USDT\",\"marginAvailable\":true,\"autoAssetExchange\":\"-100\"},{\"asset\":\"BTC\",\"marginAvailable\":true,\"autoAssetExchange\":\"-0.00100000\"},{\"asse\n",
            "2025-09-09 18:08:52,184 | INFO | RESPONSE 200: {\"timezone\":\"UTC\",\"serverTime\":1757425319152,\"futuresType\":\"U_MARGINED\",\"rateLimits\":[{\"rateLimitType\":\"REQUEST_WEIGHT\",\"interval\":\"MINUTE\",\"intervalNum\":1,\"limit\":6000},{\"rateLimitType\":\"ORDERS\",\"interval\":\"MINUTE\",\"intervalNum\":1,\"limit\":1200},{\"rateLimitType\":\"ORDERS\",\"interval\":\"SECOND\",\"intervalNum\":10,\"limit\":300}],\"exchangeFilters\":[],\"assets\":[{\"asset\":\"USDT\",\"marginAvailable\":true,\"autoAssetExchange\":\"-100\"},{\"asset\":\"BTC\",\"marginAvailable\":true,\"autoAssetExchange\":\"-0.00100000\"},{\"asse\n"
          ]
        },
        {
          "output_type": "stream",
          "name": "stderr",
          "text": [
            "INFO:bot:RESPONSE 200: {\"timezone\":\"UTC\",\"serverTime\":1757425319152,\"futuresType\":\"U_MARGINED\",\"rateLimits\":[{\"rateLimitType\":\"REQUEST_WEIGHT\",\"interval\":\"MINUTE\",\"intervalNum\":1,\"limit\":6000},{\"rateLimitType\":\"ORDERS\",\"interval\":\"MINUTE\",\"intervalNum\":1,\"limit\":1200},{\"rateLimitType\":\"ORDERS\",\"interval\":\"SECOND\",\"intervalNum\":10,\"limit\":300}],\"exchangeFilters\":[],\"assets\":[{\"asset\":\"USDT\",\"marginAvailable\":true,\"autoAssetExchange\":\"-100\"},{\"asset\":\"BTC\",\"marginAvailable\":true,\"autoAssetExchange\":\"-0.00100000\"},{\"asse\n"
          ]
        },
        {
          "output_type": "stream",
          "name": "stdout",
          "text": [
            "2025-09-09 18:08:52,198 | INFO | REQUEST POST https://testnet.binancefuture.com/fapi/v1/leverage | params={'symbol': 'ETHUSDT', 'leverage': 3, 'timestamp': 1757441332198, 'signature': '***'}\n",
            "2025-09-09 18:08:52,198 | INFO | REQUEST POST https://testnet.binancefuture.com/fapi/v1/leverage | params={'symbol': 'ETHUSDT', 'leverage': 3, 'timestamp': 1757441332198, 'signature': '***'}\n"
          ]
        },
        {
          "output_type": "stream",
          "name": "stderr",
          "text": [
            "INFO:bot:REQUEST POST https://testnet.binancefuture.com/fapi/v1/leverage | params={'symbol': 'ETHUSDT', 'leverage': 3, 'timestamp': 1757441332198, 'signature': '***'}\n"
          ]
        },
        {
          "output_type": "stream",
          "name": "stdout",
          "text": [
            "2025-09-09 18:08:52,592 | INFO | RESPONSE 401: {\"code\":-2014,\"msg\":\"API-key format invalid.\"}\n",
            "2025-09-09 18:08:52,592 | INFO | RESPONSE 401: {\"code\":-2014,\"msg\":\"API-key format invalid.\"}\n"
          ]
        },
        {
          "output_type": "stream",
          "name": "stderr",
          "text": [
            "INFO:bot:RESPONSE 401: {\"code\":-2014,\"msg\":\"API-key format invalid.\"}\n"
          ]
        },
        {
          "output_type": "stream",
          "name": "stdout",
          "text": [
            "2025-09-09 18:08:52,595 | ERROR | HTTP error: 401 Client Error: Unauthorized for url: https://testnet.binancefuture.com/fapi/v1/leverage\n",
            "2025-09-09 18:08:52,595 | ERROR | HTTP error: 401 Client Error: Unauthorized for url: https://testnet.binancefuture.com/fapi/v1/leverage\n"
          ]
        },
        {
          "output_type": "stream",
          "name": "stderr",
          "text": [
            "ERROR:bot:HTTP error: 401 Client Error: Unauthorized for url: https://testnet.binancefuture.com/fapi/v1/leverage\n"
          ]
        },
        {
          "output_type": "stream",
          "name": "stdout",
          "text": [
            "2025-09-09 18:08:52,599 | INFO | Leverage set result: {'code': -2014, 'msg': 'API-key format invalid.'}\n",
            "2025-09-09 18:08:52,599 | INFO | Leverage set result: {'code': -2014, 'msg': 'API-key format invalid.'}\n"
          ]
        },
        {
          "output_type": "stream",
          "name": "stderr",
          "text": [
            "INFO:bot:Leverage set result: {'code': -2014, 'msg': 'API-key format invalid.'}\n"
          ]
        },
        {
          "output_type": "stream",
          "name": "stdout",
          "text": [
            "2025-09-09 18:08:52,601 | INFO | REQUEST POST https://testnet.binancefuture.com/fapi/v1/order | params={'symbol': 'ETHUSDT', 'side': 'SELL', 'type': 'LIMIT', 'quantity': '0.01', 'recvWindow': 5000, 'price': '1800', 'timeInForce': 'GTC', 'reduceOnly': 'false', 'timestamp': 1757441332600, 'signature': '***'}\n",
            "2025-09-09 18:08:52,601 | INFO | REQUEST POST https://testnet.binancefuture.com/fapi/v1/order | params={'symbol': 'ETHUSDT', 'side': 'SELL', 'type': 'LIMIT', 'quantity': '0.01', 'recvWindow': 5000, 'price': '1800', 'timeInForce': 'GTC', 'reduceOnly': 'false', 'timestamp': 1757441332600, 'signature': '***'}\n"
          ]
        },
        {
          "output_type": "stream",
          "name": "stderr",
          "text": [
            "INFO:bot:REQUEST POST https://testnet.binancefuture.com/fapi/v1/order | params={'symbol': 'ETHUSDT', 'side': 'SELL', 'type': 'LIMIT', 'quantity': '0.01', 'recvWindow': 5000, 'price': '1800', 'timeInForce': 'GTC', 'reduceOnly': 'false', 'timestamp': 1757441332600, 'signature': '***'}\n"
          ]
        },
        {
          "output_type": "stream",
          "name": "stdout",
          "text": [
            "2025-09-09 18:08:52,746 | INFO | RESPONSE 401: {\"code\":-2014,\"msg\":\"API-key format invalid.\"}\n",
            "2025-09-09 18:08:52,746 | INFO | RESPONSE 401: {\"code\":-2014,\"msg\":\"API-key format invalid.\"}\n"
          ]
        },
        {
          "output_type": "stream",
          "name": "stderr",
          "text": [
            "INFO:bot:RESPONSE 401: {\"code\":-2014,\"msg\":\"API-key format invalid.\"}\n"
          ]
        },
        {
          "output_type": "stream",
          "name": "stdout",
          "text": [
            "2025-09-09 18:08:52,748 | ERROR | HTTP error: 401 Client Error: Unauthorized for url: https://testnet.binancefuture.com/fapi/v1/order\n",
            "2025-09-09 18:08:52,748 | ERROR | HTTP error: 401 Client Error: Unauthorized for url: https://testnet.binancefuture.com/fapi/v1/order\n"
          ]
        },
        {
          "output_type": "stream",
          "name": "stderr",
          "text": [
            "ERROR:bot:HTTP error: 401 Client Error: Unauthorized for url: https://testnet.binancefuture.com/fapi/v1/order\n"
          ]
        },
        {
          "output_type": "stream",
          "name": "stdout",
          "text": [
            "{'code': -2014, 'msg': 'API-key format invalid.'}\n"
          ]
        }
      ]
    }
  ]
}